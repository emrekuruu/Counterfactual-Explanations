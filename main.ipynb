{
 "cells": [
  {
   "cell_type": "code",
   "execution_count": 1,
   "metadata": {},
   "outputs": [],
   "source": [
    "import pandas as pd\n",
    "from sklearn.model_selection import train_test_split\n",
    "from explanation_generation import find_features_to_change, find_top_influential_instances\n",
    "from autoencoder import Autoencoder, EnhancedLR, AutoEncoderClassifier\n",
    "import torch\n",
    "from sklearn.metrics import accuracy_score\n",
    "from torch.utils.data import  TensorDataset"
   ]
  },
  {
   "cell_type": "code",
   "execution_count": 2,
   "metadata": {},
   "outputs": [],
   "source": [
    "X_train = pd.read_csv(\"data/dataset.csv\", index_col=0)\n",
    "y_train = pd.read_csv(\"data/labels.csv\", index_col=0)"
   ]
  },
  {
   "cell_type": "code",
   "execution_count": 3,
   "metadata": {},
   "outputs": [
    {
     "data": {
      "text/plain": [
       "138"
      ]
     },
     "execution_count": 3,
     "metadata": {},
     "output_type": "execute_result"
    }
   ],
   "source": [
    "X_train, X_test, y_train, y_test = train_test_split(X_train, y_train, test_size=0.998, random_state=2)\n",
    "len(X_train)"
   ]
  },
  {
   "cell_type": "code",
   "execution_count": 4,
   "metadata": {},
   "outputs": [],
   "source": [
    "embedder = Autoencoder(X_train.shape[1],embedding_dim=64,reconstruction_loss=torch.nn.BCELoss(), classification_loss=torch.nn.BCELoss())\n",
    "model = autoencoder = AutoEncoderClassifier(embedder=embedder)"
   ]
  },
  {
   "cell_type": "code",
   "execution_count": 5,
   "metadata": {},
   "outputs": [
    {
     "name": "stdout",
     "output_type": "stream",
     "text": [
      "Epoch: 1, Training Loss: 2.18087899684906, Recon Loss: 0.34290212392807007, Classification Loss: 0.34198999404907227\n",
      "Epoch: 2, Training Loss: 2.121616840362549, Recon Loss: 0.3369373083114624, Classification Loss: 0.3309010863304138\n",
      "Epoch: 3, Training Loss: 2.0765026807785034, Recon Loss: 0.33102497458457947, Classification Loss: 0.3289940357208252\n",
      "Epoch: 4, Training Loss: 2.0155235528945923, Recon Loss: 0.32409825921058655, Classification Loss: 0.31214553117752075\n",
      "Epoch: 5, Training Loss: 1.980546772480011, Recon Loss: 0.3162600100040436, Classification Loss: 0.3250485062599182\n",
      "Epoch: 6, Training Loss: 1.8776084184646606, Recon Loss: 0.30288025736808777, Classification Loss: 0.27233463525772095\n",
      "Epoch: 7, Training Loss: 1.8482618927955627, Recon Loss: 0.29452723264694214, Classification Loss: 0.2984786927700043\n",
      "Epoch: 8, Training Loss: 1.7477986216545105, Recon Loss: 0.27398478984832764, Classification Loss: 0.26288285851478577\n",
      "Epoch: 9, Training Loss: 1.7342920303344727, Recon Loss: 0.25254586338996887, Classification Loss: 0.3276655375957489\n",
      "Epoch: 10, Training Loss: 1.5524227619171143, Recon Loss: 0.20762081444263458, Classification Loss: 0.2414485663175583\n",
      "Epoch: 11, Training Loss: 1.4884179830551147, Recon Loss: 0.19190478324890137, Classification Loss: 0.26147153973579407\n",
      "Epoch: 12, Training Loss: 1.2896550297737122, Recon Loss: 0.12220238149166107, Classification Loss: 0.19670987129211426\n",
      "Epoch: 13, Training Loss: 1.1975951790809631, Recon Loss: 0.09301456063985825, Classification Loss: 0.20202648639678955\n",
      "Epoch: 14, Training Loss: 1.1120803356170654, Recon Loss: 0.06631696969270706, Classification Loss: 0.20110027492046356\n",
      "Epoch: 15, Training Loss: 1.108710527420044, Recon Loss: 0.06185496225953102, Classification Loss: 0.25220757722854614\n",
      "Epoch: 16, Training Loss: 1.0278172492980957, Recon Loss: 0.06340976804494858, Classification Loss: 0.20686225593090057\n",
      "Epoch: 17, Training Loss: 1.0302108526229858, Recon Loss: 0.047602906823158264, Classification Loss: 0.26130759716033936\n",
      "Epoch: 18, Training Loss: 0.9605642855167389, Recon Loss: 0.05660581961274147, Classification Loss: 0.21013645827770233\n",
      "Epoch: 19, Training Loss: 0.8902963995933533, Recon Loss: 0.044267233461141586, Classification Loss: 0.172206848859787\n",
      "Epoch: 20, Training Loss: 0.9141426086425781, Recon Loss: 0.04769402742385864, Classification Loss: 0.219134122133255\n",
      "Epoch: 21, Training Loss: 0.8725562691688538, Recon Loss: 0.049896106123924255, Classification Loss: 0.19089794158935547\n",
      "Epoch: 22, Training Loss: 0.8845769166946411, Recon Loss: 0.052425872534513474, Classification Loss: 0.22490087151527405\n",
      "Epoch: 23, Training Loss: 0.7812358736991882, Recon Loss: 0.045499466359615326, Classification Loss: 0.13780054450035095\n",
      "Epoch: 24, Training Loss: 0.7792538404464722, Recon Loss: 0.051119718700647354, Classification Loss: 0.14695356786251068\n",
      "Epoch: 25, Training Loss: 0.8103155493736267, Recon Loss: 0.050845395773649216, Classification Loss: 0.19818799197673798\n"
     ]
    },
    {
     "data": {
      "text/plain": [
       "0.781185354492456"
      ]
     },
     "execution_count": 5,
     "metadata": {},
     "output_type": "execute_result"
    }
   ],
   "source": [
    "model.fit(X_train.values, y_train.values, 25)\n",
    "accuracy_score(model.predict(X_test), y_test)"
   ]
  },
  {
   "cell_type": "code",
   "execution_count": 6,
   "metadata": {},
   "outputs": [
    {
     "data": {
      "text/plain": [
       "40610.0"
      ]
     },
     "execution_count": 6,
     "metadata": {},
     "output_type": "execute_result"
    }
   ],
   "source": [
    "model.predict(X_test).sum()"
   ]
  },
  {
   "cell_type": "code",
   "execution_count": 7,
   "metadata": {},
   "outputs": [
    {
     "data": {
      "text/plain": [
       "69127"
      ]
     },
     "execution_count": 7,
     "metadata": {},
     "output_type": "execute_result"
    }
   ],
   "source": [
    "len(X_test)"
   ]
  },
  {
   "cell_type": "code",
   "execution_count": 8,
   "metadata": {},
   "outputs": [
    {
     "data": {
      "text/plain": [
       "0.9875273"
      ]
     },
     "execution_count": 8,
     "metadata": {},
     "output_type": "execute_result"
    }
   ],
   "source": [
    "recommendation = pd.DataFrame(model.predict_proba(X_test))[1].max()\n",
    "recommendation"
   ]
  },
  {
   "cell_type": "code",
   "execution_count": 9,
   "metadata": {},
   "outputs": [
    {
     "data": {
      "text/plain": [
       "58499"
      ]
     },
     "execution_count": 9,
     "metadata": {},
     "output_type": "execute_result"
    }
   ],
   "source": [
    "recommendation = pd.DataFrame(model.predict_proba(X_test))[1].idxmax()\n",
    "recommendation"
   ]
  },
  {
   "cell_type": "code",
   "execution_count": 10,
   "metadata": {},
   "outputs": [
    {
     "data": {
      "text/plain": [
       "19"
      ]
     },
     "execution_count": 10,
     "metadata": {},
     "output_type": "execute_result"
    }
   ],
   "source": [
    "recommendation = X_test.iloc[recommendation].copy()\n",
    "recommendation.sum()"
   ]
  },
  {
   "cell_type": "code",
   "execution_count": 11,
   "metadata": {},
   "outputs": [
    {
     "data": {
      "text/plain": [
       "(3, 86, 117, 126, 183, 233, 236, 266, 299, 332)"
      ]
     },
     "execution_count": 11,
     "metadata": {},
     "output_type": "execute_result"
    }
   ],
   "source": [
    "features = find_features_to_change(model, recommendation) \n",
    "features"
   ]
  },
  {
   "cell_type": "code",
   "execution_count": 12,
   "metadata": {},
   "outputs": [
    {
     "data": {
      "text/plain": [
       "['anise',\n",
       " 'cornstarch',\n",
       " 'flour',\n",
       " 'ginger',\n",
       " 'milk',\n",
       " 'pork',\n",
       " 'powder',\n",
       " 'sauce',\n",
       " 'sugar',\n",
       " 'water']"
      ]
     },
     "execution_count": 12,
     "metadata": {},
     "output_type": "execute_result"
    }
   ],
   "source": [
    "sorted([X_train.columns.values[i] for i in features ])"
   ]
  },
  {
   "cell_type": "code",
   "execution_count": 13,
   "metadata": {},
   "outputs": [
    {
     "data": {
      "text/plain": [
       "0.0"
      ]
     },
     "execution_count": 13,
     "metadata": {},
     "output_type": "execute_result"
    }
   ],
   "source": [
    "temp =recommendation.copy()\n",
    "\n",
    "for feat in features:\n",
    "    temp[feat] = 0\n",
    "\n",
    "model.predict(temp.values)[0]"
   ]
  },
  {
   "cell_type": "code",
   "execution_count": 14,
   "metadata": {},
   "outputs": [
    {
     "data": {
      "text/plain": [
       "9"
      ]
     },
     "execution_count": 14,
     "metadata": {},
     "output_type": "execute_result"
    }
   ],
   "source": [
    "temp.sum()"
   ]
  },
  {
   "cell_type": "code",
   "execution_count": 15,
   "metadata": {},
   "outputs": [
    {
     "data": {
      "text/plain": [
       "['anise',\n",
       " 'bamboo',\n",
       " 'clove',\n",
       " 'cornstarch',\n",
       " 'flour',\n",
       " 'ginger',\n",
       " 'gingerroot',\n",
       " 'milk',\n",
       " 'mushroom',\n",
       " 'oil',\n",
       " 'onion',\n",
       " 'paper',\n",
       " 'pork',\n",
       " 'powder',\n",
       " 'sauce',\n",
       " 'shortening',\n",
       " 'sugar',\n",
       " 'water',\n",
       " 'yeast']"
      ]
     },
     "execution_count": 15,
     "metadata": {},
     "output_type": "execute_result"
    }
   ],
   "source": [
    "def get_ingridients(recommendation):\n",
    "    recommendation_ = pd.DataFrame(recommendation).T\n",
    "    features = recommendation_[recommendation_ > 0].dropna(axis=1).columns.values\n",
    "    return features\n",
    "\n",
    "list(get_ingridients(recommendation))"
   ]
  },
  {
   "cell_type": "code",
   "execution_count": 16,
   "metadata": {},
   "outputs": [],
   "source": [
    "def concatenate_weights_biases(grad):\n",
    "    concatenated_grad = []\n",
    "    for i in range(0, len(grad)-1, 2):  # Iterate over weight and bias pairs\n",
    "        concatenated_tensor = torch.cat([torch.flatten(grad[i]), torch.flatten(grad[i+1])])\n",
    "        concatenated_grad.append(concatenated_tensor)\n",
    "    return concatenated_grad"
   ]
  },
  {
   "cell_type": "code",
   "execution_count": 17,
   "metadata": {},
   "outputs": [],
   "source": [
    "X_tensor = torch.tensor(X_train.values, dtype=torch.float32)\n",
    "y_tensor = torch.tensor(y_train.values, dtype=torch.float32).unsqueeze(1) \n",
    "dataset = TensorDataset(X_tensor, y_tensor)"
   ]
  },
  {
   "cell_type": "code",
   "execution_count": 18,
   "metadata": {},
   "outputs": [],
   "source": [
    "most_influencial = find_top_influential_instances(model.embedder ,dataset, recommendation )"
   ]
  },
  {
   "cell_type": "code",
   "execution_count": 19,
   "metadata": {},
   "outputs": [
    {
     "data": {
      "text/plain": [
       "[(132, 0.0651148334145546),\n",
       " (122, -0.0605943463742733),\n",
       " (46, 0.058781854808330536),\n",
       " (133, 0.05548936128616333),\n",
       " (19, 0.0512673556804657)]"
      ]
     },
     "execution_count": 19,
     "metadata": {},
     "output_type": "execute_result"
    }
   ],
   "source": [
    "most_influencial"
   ]
  },
  {
   "cell_type": "code",
   "execution_count": 20,
   "metadata": {},
   "outputs": [],
   "source": [
    "indices = [_[0] for _ in most_influencial]"
   ]
  },
  {
   "cell_type": "code",
   "execution_count": 21,
   "metadata": {},
   "outputs": [],
   "source": [
    "top = pd.DataFrame()\n",
    "\n",
    "for i in range(0,5):\n",
    "    top[i] =  [pd.DataFrame(_) for _ in X_train.iloc[indices].T.apply(get_ingridients).values][i]"
   ]
  },
  {
   "cell_type": "code",
   "execution_count": 22,
   "metadata": {},
   "outputs": [
    {
     "data": {
      "text/html": [
       "<div>\n",
       "<style scoped>\n",
       "    .dataframe tbody tr th:only-of-type {\n",
       "        vertical-align: middle;\n",
       "    }\n",
       "\n",
       "    .dataframe tbody tr th {\n",
       "        vertical-align: top;\n",
       "    }\n",
       "\n",
       "    .dataframe thead th {\n",
       "        text-align: right;\n",
       "    }\n",
       "</style>\n",
       "<table border=\"1\" class=\"dataframe\">\n",
       "  <thead>\n",
       "    <tr style=\"text-align: right;\">\n",
       "      <th></th>\n",
       "      <th>0</th>\n",
       "      <th>1</th>\n",
       "      <th>2</th>\n",
       "      <th>3</th>\n",
       "      <th>4</th>\n",
       "    </tr>\n",
       "  </thead>\n",
       "  <tbody>\n",
       "    <tr>\n",
       "      <th>0</th>\n",
       "      <td>breadcrumb</td>\n",
       "      <td>butter</td>\n",
       "      <td>breadcrumb</td>\n",
       "      <td>avocado</td>\n",
       "      <td>bacon</td>\n",
       "    </tr>\n",
       "    <tr>\n",
       "      <th>1</th>\n",
       "      <td>cheese</td>\n",
       "      <td>juice</td>\n",
       "      <td>cheese</td>\n",
       "      <td>chive</td>\n",
       "      <td>cheese</td>\n",
       "    </tr>\n",
       "    <tr>\n",
       "      <th>2</th>\n",
       "      <td>clove</td>\n",
       "      <td>orange</td>\n",
       "      <td>ground</td>\n",
       "      <td>cream</td>\n",
       "      <td>mayonnaise</td>\n",
       "    </tr>\n",
       "    <tr>\n",
       "      <th>3</th>\n",
       "      <td>egg</td>\n",
       "      <td>plum</td>\n",
       "      <td>leaf</td>\n",
       "      <td>dill</td>\n",
       "      <td>onion</td>\n",
       "    </tr>\n",
       "    <tr>\n",
       "      <th>4</th>\n",
       "      <td>fillet</td>\n",
       "      <td>sugar</td>\n",
       "      <td>liquid</td>\n",
       "      <td>egg</td>\n",
       "      <td>potato</td>\n",
       "    </tr>\n",
       "    <tr>\n",
       "      <th>5</th>\n",
       "      <td>milk</td>\n",
       "      <td>water</td>\n",
       "      <td>oil</td>\n",
       "      <td>juice</td>\n",
       "      <td>salt</td>\n",
       "    </tr>\n",
       "    <tr>\n",
       "      <th>6</th>\n",
       "      <td>oil</td>\n",
       "      <td></td>\n",
       "      <td>pepper</td>\n",
       "      <td>lemon</td>\n",
       "      <td></td>\n",
       "    </tr>\n",
       "    <tr>\n",
       "      <th>7</th>\n",
       "      <td>oregano</td>\n",
       "      <td></td>\n",
       "      <td>salt</td>\n",
       "      <td>lobster</td>\n",
       "      <td></td>\n",
       "    </tr>\n",
       "    <tr>\n",
       "      <th>8</th>\n",
       "      <td>pepper</td>\n",
       "      <td></td>\n",
       "      <td>seasoning</td>\n",
       "      <td>milk</td>\n",
       "      <td></td>\n",
       "    </tr>\n",
       "    <tr>\n",
       "      <th>9</th>\n",
       "      <td>salt</td>\n",
       "      <td></td>\n",
       "      <td></td>\n",
       "      <td>oil</td>\n",
       "      <td></td>\n",
       "    </tr>\n",
       "  </tbody>\n",
       "</table>\n",
       "</div>"
      ],
      "text/plain": [
       "            0       1           2        3           4\n",
       "0  breadcrumb  butter  breadcrumb  avocado       bacon\n",
       "1      cheese   juice      cheese    chive      cheese\n",
       "2       clove  orange      ground    cream  mayonnaise\n",
       "3         egg    plum        leaf     dill       onion\n",
       "4      fillet   sugar      liquid      egg      potato\n",
       "5        milk   water         oil    juice        salt\n",
       "6         oil              pepper    lemon            \n",
       "7     oregano                salt  lobster            \n",
       "8      pepper           seasoning     milk            \n",
       "9        salt                          oil            "
      ]
     },
     "execution_count": 22,
     "metadata": {},
     "output_type": "execute_result"
    }
   ],
   "source": [
    "top.fillna(\" \")"
   ]
  },
  {
   "cell_type": "code",
   "execution_count": 23,
   "metadata": {},
   "outputs": [
    {
     "data": {
      "text/plain": [
       "array(['anise', 'bamboo', 'clove', 'cornstarch', 'flour', 'ginger',\n",
       "       'gingerroot', 'milk', 'mushroom', 'oil', 'onion', 'paper', 'pork',\n",
       "       'powder', 'sauce', 'shortening', 'sugar', 'water', 'yeast'],\n",
       "      dtype=object)"
      ]
     },
     "execution_count": 23,
     "metadata": {},
     "output_type": "execute_result"
    }
   ],
   "source": [
    "get_ingridients(recommendation)"
   ]
  },
  {
   "cell_type": "code",
   "execution_count": 24,
   "metadata": {},
   "outputs": [
    {
     "data": {
      "text/html": [
       "<div>\n",
       "<style scoped>\n",
       "    .dataframe tbody tr th:only-of-type {\n",
       "        vertical-align: middle;\n",
       "    }\n",
       "\n",
       "    .dataframe tbody tr th {\n",
       "        vertical-align: top;\n",
       "    }\n",
       "\n",
       "    .dataframe thead th {\n",
       "        text-align: right;\n",
       "    }\n",
       "</style>\n",
       "<table border=\"1\" class=\"dataframe\">\n",
       "  <thead>\n",
       "    <tr style=\"text-align: right;\">\n",
       "      <th></th>\n",
       "      <th>0</th>\n",
       "    </tr>\n",
       "  </thead>\n",
       "  <tbody>\n",
       "    <tr>\n",
       "      <th>34544</th>\n",
       "      <td>1</td>\n",
       "    </tr>\n",
       "    <tr>\n",
       "      <th>8506</th>\n",
       "      <td>0</td>\n",
       "    </tr>\n",
       "    <tr>\n",
       "      <th>49938</th>\n",
       "      <td>1</td>\n",
       "    </tr>\n",
       "    <tr>\n",
       "      <th>55809</th>\n",
       "      <td>1</td>\n",
       "    </tr>\n",
       "    <tr>\n",
       "      <th>23074</th>\n",
       "      <td>1</td>\n",
       "    </tr>\n",
       "  </tbody>\n",
       "</table>\n",
       "</div>"
      ],
      "text/plain": [
       "       0\n",
       "34544  1\n",
       "8506   0\n",
       "49938  1\n",
       "55809  1\n",
       "23074  1"
      ]
     },
     "execution_count": 24,
     "metadata": {},
     "output_type": "execute_result"
    }
   ],
   "source": [
    "y_train.iloc[indices]"
   ]
  },
  {
   "cell_type": "code",
   "execution_count": 25,
   "metadata": {},
   "outputs": [
    {
     "data": {
      "text/plain": [
       "array([1.], dtype=float32)"
      ]
     },
     "execution_count": 25,
     "metadata": {},
     "output_type": "execute_result"
    }
   ],
   "source": [
    "model.predict(recommendation)"
   ]
  },
  {
   "cell_type": "code",
   "execution_count": 26,
   "metadata": {},
   "outputs": [
    {
     "data": {
      "text/plain": [
       "array([0.], dtype=float32)"
      ]
     },
     "execution_count": 26,
     "metadata": {},
     "output_type": "execute_result"
    }
   ],
   "source": [
    "model.predict(temp)"
   ]
  },
  {
   "cell_type": "code",
   "execution_count": 27,
   "metadata": {},
   "outputs": [
    {
     "data": {
      "text/plain": [
       "19"
      ]
     },
     "execution_count": 27,
     "metadata": {},
     "output_type": "execute_result"
    }
   ],
   "source": [
    "recommendation.sum()"
   ]
  },
  {
   "cell_type": "code",
   "execution_count": null,
   "metadata": {},
   "outputs": [],
   "source": []
  }
 ],
 "metadata": {
  "kernelspec": {
   "display_name": "Python 3",
   "language": "python",
   "name": "python3"
  },
  "language_info": {
   "codemirror_mode": {
    "name": "ipython",
    "version": 3
   },
   "file_extension": ".py",
   "mimetype": "text/x-python",
   "name": "python",
   "nbconvert_exporter": "python",
   "pygments_lexer": "ipython3",
   "version": "3.11.5"
  },
  "orig_nbformat": 4
 },
 "nbformat": 4,
 "nbformat_minor": 2
}
